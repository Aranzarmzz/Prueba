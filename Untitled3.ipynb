{
  "nbformat": 4,
  "nbformat_minor": 0,
  "metadata": {
    "colab": {
      "name": "Untitled3.ipynb",
      "provenance": [],
      "authorship_tag": "ABX9TyOySn3zSdOxz3aqDE0Cs9hU",
      "include_colab_link": true
    },
    "kernelspec": {
      "name": "python3",
      "display_name": "Python 3"
    },
    "language_info": {
      "name": "python"
    }
  },
  "cells": [
    {
      "cell_type": "markdown",
      "metadata": {
        "id": "view-in-github",
        "colab_type": "text"
      },
      "source": [
        "<a href=\"https://colab.research.google.com/github/Aranzarmzz/Prueba/blob/master/Untitled3.ipynb\" target=\"_parent\"><img src=\"https://colab.research.google.com/assets/colab-badge.svg\" alt=\"Open In Colab\"/></a>"
      ]
    },
    {
      "cell_type": "markdown",
      "metadata": {
        "id": "ddsm8SEaceAI"
      },
      "source": [
        ""
      ]
    },
    {
      "cell_type": "markdown",
      "metadata": {
        "id": "pYAAwLZ6chxE"
      },
      "source": [
        "**Ordenamiento**"
      ]
    },
    {
      "cell_type": "code",
      "metadata": {
        "colab": {
          "base_uri": "https://localhost:8080/"
        },
        "id": "Y2vpt13LcjU8",
        "outputId": "9daea230-1f97-46da-d9a2-25cdaa850d06"
      },
      "source": [
        "lista = [5,1,6,2,4,3]\n",
        "\n",
        "for steps in range (len(lista)-1,0,-1):\n",
        "  print('steps',steps)\n",
        "  for i in range (steps):\n",
        "    print('indice:',i,\"Me estas comparando con:\",i+1)\n",
        "    if lista[i] > lista[i+1]:\n",
        "      temp = lista[i]\n",
        "      lista[i] = lista [i+1]\n",
        "      lista[i+1] = temp \n",
        "print(lista)"
      ],
      "execution_count": null,
      "outputs": [
        {
          "output_type": "stream",
          "text": [
            "steps 5\n",
            "indice: 0 Me estas comparando con: 1\n",
            "indice: 1 Me estas comparando con: 2\n",
            "indice: 2 Me estas comparando con: 3\n",
            "indice: 3 Me estas comparando con: 4\n",
            "indice: 4 Me estas comparando con: 5\n",
            "steps 4\n",
            "indice: 0 Me estas comparando con: 1\n",
            "indice: 1 Me estas comparando con: 2\n",
            "indice: 2 Me estas comparando con: 3\n",
            "indice: 3 Me estas comparando con: 4\n",
            "steps 3\n",
            "indice: 0 Me estas comparando con: 1\n",
            "indice: 1 Me estas comparando con: 2\n",
            "indice: 2 Me estas comparando con: 3\n",
            "steps 2\n",
            "indice: 0 Me estas comparando con: 1\n",
            "indice: 1 Me estas comparando con: 2\n",
            "steps 1\n",
            "indice: 0 Me estas comparando con: 1\n",
            "[1, 2, 3, 4, 5, 6]\n"
          ],
          "name": "stdout"
        }
      ]
    },
    {
      "cell_type": "code",
      "metadata": {
        "id": "DuZLzJvxcomv"
      },
      "source": [
        "def unsortedList(size_of_array):\n",
        "  import random\n",
        "\n",
        "  random_list = []\n",
        "  for i in range (0,size_of_array):\n",
        "    n = random.randint(1,100)\n",
        "    random_list.append(n)\n",
        "  return random_list\n"
      ],
      "execution_count": null,
      "outputs": []
    },
    {
      "cell_type": "code",
      "metadata": {
        "colab": {
          "base_uri": "https://localhost:8080/"
        },
        "id": "ReKbKLQeiiJy",
        "outputId": "d08dd02a-fc5a-4f80-f043-80a5bf03b325"
      },
      "source": [
        "import random\n",
        "\n",
        "random.randint(1,100)"
      ],
      "execution_count": null,
      "outputs": [
        {
          "output_type": "execute_result",
          "data": {
            "text/plain": [
              "98"
            ]
          },
          "metadata": {
            "tags": []
          },
          "execution_count": 20
        }
      ]
    },
    {
      "cell_type": "code",
      "metadata": {
        "id": "iqTMx-Bbj4IX"
      },
      "source": [
        "def bubleSortOptimized(lista):\n",
        "  swapped = True\n",
        "  steps_ = len(lista)-1\n",
        "  while steps_ > 0 and swapped:\n",
        "    print('Step:',steps_)\n",
        "    swapped = False\n",
        "    for i in range(steps_):\n",
        "      print('indice:',i,'comparado con:',i+1)\n",
        "      if lista[i] > lista[i+1]:\n",
        "        swapped = True\n",
        "        temp = lista[i]\n",
        "        lista[i] = lista[i+1]\n",
        "        lista[i+1] = temp\n",
        "    steps_ = steps_-1\n",
        "  return lista\n"
      ],
      "execution_count": null,
      "outputs": []
    },
    {
      "cell_type": "code",
      "metadata": {
        "colab": {
          "base_uri": "https://localhost:8080/"
        },
        "id": "E9Gl76dtmEfe",
        "outputId": "d4c10d8f-9543-4406-db31-4e805044f185"
      },
      "source": [
        "bubleSortOptimized([7,3,1,4,3,8,9])"
      ],
      "execution_count": null,
      "outputs": [
        {
          "output_type": "stream",
          "text": [
            "Step: 6\n",
            "indice: 0 comparado con: 1\n",
            "indice: 1 comparado con: 2\n",
            "indice: 2 comparado con: 3\n",
            "indice: 3 comparado con: 4\n",
            "indice: 4 comparado con: 5\n",
            "indice: 5 comparado con: 6\n",
            "Step: 5\n",
            "indice: 0 comparado con: 1\n",
            "indice: 1 comparado con: 2\n",
            "indice: 2 comparado con: 3\n",
            "indice: 3 comparado con: 4\n",
            "indice: 4 comparado con: 5\n",
            "Step: 4\n",
            "indice: 0 comparado con: 1\n",
            "indice: 1 comparado con: 2\n",
            "indice: 2 comparado con: 3\n",
            "indice: 3 comparado con: 4\n"
          ],
          "name": "stdout"
        },
        {
          "output_type": "execute_result",
          "data": {
            "text/plain": [
              "[1, 3, 3, 4, 7, 8, 9]"
            ]
          },
          "metadata": {
            "tags": []
          },
          "execution_count": 34
        }
      ]
    },
    {
      "cell_type": "code",
      "metadata": {
        "id": "-V7TLDBTpfpK"
      },
      "source": [
        ""
      ],
      "execution_count": null,
      "outputs": []
    }
  ]
}