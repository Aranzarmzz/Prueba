{
  "nbformat": 4,
  "nbformat_minor": 0,
  "metadata": {
    "colab": {
      "name": "Untitled8.ipynb",
      "provenance": [],
      "authorship_tag": "ABX9TyOgOlXDkNEym7tZy8T91hb0",
      "include_colab_link": true
    },
    "kernelspec": {
      "name": "python3",
      "display_name": "Python 3"
    },
    "language_info": {
      "name": "python"
    }
  },
  "cells": [
    {
      "cell_type": "markdown",
      "metadata": {
        "id": "view-in-github",
        "colab_type": "text"
      },
      "source": [
        "<a href=\"https://colab.research.google.com/github/Aranzarmzz/Prueba/blob/master/Untitled8.ipynb\" target=\"_parent\"><img src=\"https://colab.research.google.com/assets/colab-badge.svg\" alt=\"Open In Colab\"/></a>"
      ]
    },
    {
      "cell_type": "code",
      "metadata": {
        "id": "JcdT3guYav3a"
      },
      "source": [
        "def indexedSequentialSearch(items,value,group_division):\n",
        "  elements = [0] * 20\n",
        "  indices = [0] * 20\n",
        "  i,j, index, end = 0,0,0,0\n",
        "  \n",
        "  flag = 0\n",
        "\n",
        "  for i in range(0,len(items),group_division):\n",
        "    elements[index] = items[i]\n",
        "    indices[index] = i\n",
        "    index += 1\n",
        "  \n",
        "  if value < elements[0]:\n",
        "    print('No se encuentra un valor') \n",
        "    return exit(0)\n",
        "  else:\n",
        "    for i in range(0, index + 1):\n",
        "      if value <= elements[i]:\n",
        "        start = indices[i-1]\n",
        "        end = indices[i]\n",
        "        flag = 1\n",
        "        break\n",
        "  if flag == 0:\n",
        "    start = indices[i-1]\n",
        "    end = len(items)\n",
        "\n",
        "  \n",
        "  for i in range(start,end+1):\n",
        "    if value == items[i]:\n",
        "      j = 1\n",
        "      break\n",
        "  \n",
        "  if j == 1:\n",
        "    print('Mi valor fue encontrado en la posicion',i)\n",
        "  else:\n",
        "    print('No se encuentra un valor') \n",
        "\n",
        "\n"
      ],
      "execution_count": null,
      "outputs": []
    },
    {
      "cell_type": "code",
      "metadata": {
        "colab": {
          "base_uri": "https://localhost:8080/"
        },
        "id": "w7L6oaFjazoA",
        "outputId": "e301ea83-cc68-4ea8-c3cf-eb6e224faa3f"
      },
      "source": [
        "items = [12,15,17,21,28,36,57,81,99]\n",
        "indexedSequentialSearch(items,28,3)"
      ],
      "execution_count": null,
      "outputs": [
        {
          "output_type": "stream",
          "text": [
            "Mi valor fue encontrado en la posicion 4\n"
          ],
          "name": "stdout"
        }
      ]
    },
    {
      "cell_type": "code",
      "metadata": {
        "id": "MrMQ2ODGgBGP"
      },
      "source": [
        ""
      ],
      "execution_count": null,
      "outputs": []
    }
  ]
}